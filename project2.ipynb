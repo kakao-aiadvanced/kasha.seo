{
 "cells": [
  {
   "cell_type": "code",
   "execution_count": 14,
   "id": "initial_id",
   "metadata": {
    "collapsed": true,
    "ExecuteTime": {
     "end_time": "2024-06-18T08:08:16.691798Z",
     "start_time": "2024-06-18T08:08:15.313534Z"
    }
   },
   "outputs": [],
   "source": [
    "!pip install -q --upgrade langchain_community"
   ]
  },
  {
   "cell_type": "code",
   "execution_count": 19,
   "outputs": [
    {
     "name": "stdout",
     "output_type": "stream",
     "text": [
      "Collecting tenacity==8.3.0\r\n",
      "  Using cached tenacity-8.3.0-py3-none-any.whl.metadata (1.2 kB)\r\n",
      "Using cached tenacity-8.3.0-py3-none-any.whl (25 kB)\r\n",
      "Installing collected packages: tenacity\r\n",
      "  Attempting uninstall: tenacity\r\n",
      "    Found existing installation: tenacity 8.4.0\r\n",
      "    Uninstalling tenacity-8.4.0:\r\n",
      "      Successfully uninstalled tenacity-8.4.0\r\n",
      "Successfully installed tenacity-8.3.0\r\n"
     ]
    }
   ],
   "source": [
    "!pip install tenacity==8.3.0"
   ],
   "metadata": {
    "collapsed": false,
    "ExecuteTime": {
     "end_time": "2024-06-18T08:11:58.201011Z",
     "start_time": "2024-06-18T08:11:56.683668Z"
    }
   },
   "id": "52d48683ac207174"
  },
  {
   "cell_type": "code",
   "execution_count": 20,
   "outputs": [
    {
     "name": "stderr",
     "output_type": "stream",
     "text": [
      "USER_AGENT environment variable not set, consider setting it to identify your requests.\n"
     ]
    }
   ],
   "source": [
    "from langchain_community.document_loaders import WebBaseLoader\n"
   ],
   "metadata": {
    "collapsed": false,
    "ExecuteTime": {
     "end_time": "2024-06-18T08:11:59.878108Z",
     "start_time": "2024-06-18T08:11:59.753094Z"
    }
   },
   "id": "6c66313c1c4554d3"
  },
  {
   "cell_type": "code",
   "execution_count": 23,
   "outputs": [],
   "source": [
    "loader = WebBaseLoader([\"https://lilianweng.github.io/posts/2023-06-23-agent/\",\n",
    "    \"https://lilianweng.github.io/posts/2023-03-15-prompt-engineering/\",\n",
    "    \"https://lilianweng.github.io/posts/2023-10-25-adv-attack-llm/\"])\n",
    "docs = loader.load()"
   ],
   "metadata": {
    "collapsed": false,
    "ExecuteTime": {
     "end_time": "2024-06-18T08:12:59.904774Z",
     "start_time": "2024-06-18T08:12:59.060818Z"
    }
   },
   "id": "8821cf8bc5024298"
  },
  {
   "cell_type": "code",
   "execution_count": 24,
   "outputs": [],
   "source": [
    "!pip install -qU langchain-text-splitters"
   ],
   "metadata": {
    "collapsed": false,
    "ExecuteTime": {
     "end_time": "2024-06-18T08:14:01.766960Z",
     "start_time": "2024-06-18T08:14:00.313699Z"
    }
   },
   "id": "59b4503cc24a9237"
  },
  {
   "cell_type": "code",
   "execution_count": 71,
   "outputs": [],
   "source": [
    "from langchain_text_splitters import RecursiveCharacterTextSplitter\n",
    "\n",
    "text_splitter = RecursiveCharacterTextSplitter(chunk_size=1000, chunk_overlap=0)\n",
    "split_docs = text_splitter.split_documents(docs)"
   ],
   "metadata": {
    "collapsed": false,
    "ExecuteTime": {
     "end_time": "2024-06-18T12:05:26.204987Z",
     "start_time": "2024-06-18T12:05:26.201741Z"
    }
   },
   "id": "ceacd06c6294cd14"
  },
  {
   "cell_type": "code",
   "execution_count": 79,
   "outputs": [
    {
     "name": "stdout",
     "output_type": "stream",
     "text": [
      "Requirement already satisfied: langchain-openai in ./lib/python3.12/site-packages (0.1.8)\r\n",
      "Requirement already satisfied: langchain-core<0.3,>=0.2.2 in ./lib/python3.12/site-packages (from langchain-openai) (0.2.8)\r\n",
      "Requirement already satisfied: openai<2.0.0,>=1.26.0 in ./lib/python3.12/site-packages (from langchain-openai) (1.34.0)\r\n",
      "Requirement already satisfied: tiktoken<1,>=0.7 in ./lib/python3.12/site-packages (from langchain-openai) (0.7.0)\r\n",
      "Requirement already satisfied: PyYAML>=5.3 in ./lib/python3.12/site-packages (from langchain-core<0.3,>=0.2.2->langchain-openai) (6.0.1)\r\n",
      "Requirement already satisfied: jsonpatch<2.0,>=1.33 in ./lib/python3.12/site-packages (from langchain-core<0.3,>=0.2.2->langchain-openai) (1.33)\r\n",
      "Requirement already satisfied: langsmith<0.2.0,>=0.1.75 in ./lib/python3.12/site-packages (from langchain-core<0.3,>=0.2.2->langchain-openai) (0.1.79)\r\n",
      "Requirement already satisfied: packaging<25,>=23.2 in ./lib/python3.12/site-packages (from langchain-core<0.3,>=0.2.2->langchain-openai) (24.1)\r\n",
      "Requirement already satisfied: pydantic<3,>=1 in ./lib/python3.12/site-packages (from langchain-core<0.3,>=0.2.2->langchain-openai) (2.7.4)\r\n",
      "Requirement already satisfied: tenacity<9.0.0,>=8.1.0 in ./lib/python3.12/site-packages (from langchain-core<0.3,>=0.2.2->langchain-openai) (8.3.0)\r\n",
      "Requirement already satisfied: anyio<5,>=3.5.0 in ./lib/python3.12/site-packages (from openai<2.0.0,>=1.26.0->langchain-openai) (4.4.0)\r\n",
      "Requirement already satisfied: distro<2,>=1.7.0 in ./lib/python3.12/site-packages (from openai<2.0.0,>=1.26.0->langchain-openai) (1.9.0)\r\n",
      "Requirement already satisfied: httpx<1,>=0.23.0 in ./lib/python3.12/site-packages (from openai<2.0.0,>=1.26.0->langchain-openai) (0.27.0)\r\n",
      "Requirement already satisfied: sniffio in ./lib/python3.12/site-packages (from openai<2.0.0,>=1.26.0->langchain-openai) (1.3.1)\r\n",
      "Requirement already satisfied: tqdm>4 in ./lib/python3.12/site-packages (from openai<2.0.0,>=1.26.0->langchain-openai) (4.66.4)\r\n",
      "Requirement already satisfied: typing-extensions<5,>=4.7 in ./lib/python3.12/site-packages (from openai<2.0.0,>=1.26.0->langchain-openai) (4.12.2)\r\n",
      "Requirement already satisfied: regex>=2022.1.18 in ./lib/python3.12/site-packages (from tiktoken<1,>=0.7->langchain-openai) (2024.5.15)\r\n",
      "Requirement already satisfied: requests>=2.26.0 in ./lib/python3.12/site-packages (from tiktoken<1,>=0.7->langchain-openai) (2.32.3)\r\n",
      "Requirement already satisfied: idna>=2.8 in ./lib/python3.12/site-packages (from anyio<5,>=3.5.0->openai<2.0.0,>=1.26.0->langchain-openai) (3.7)\r\n",
      "Requirement already satisfied: certifi in ./lib/python3.12/site-packages (from httpx<1,>=0.23.0->openai<2.0.0,>=1.26.0->langchain-openai) (2024.6.2)\r\n",
      "Requirement already satisfied: httpcore==1.* in ./lib/python3.12/site-packages (from httpx<1,>=0.23.0->openai<2.0.0,>=1.26.0->langchain-openai) (1.0.5)\r\n",
      "Requirement already satisfied: h11<0.15,>=0.13 in ./lib/python3.12/site-packages (from httpcore==1.*->httpx<1,>=0.23.0->openai<2.0.0,>=1.26.0->langchain-openai) (0.14.0)\r\n",
      "Requirement already satisfied: jsonpointer>=1.9 in ./lib/python3.12/site-packages (from jsonpatch<2.0,>=1.33->langchain-core<0.3,>=0.2.2->langchain-openai) (3.0.0)\r\n",
      "Requirement already satisfied: orjson<4.0.0,>=3.9.14 in ./lib/python3.12/site-packages (from langsmith<0.2.0,>=0.1.75->langchain-core<0.3,>=0.2.2->langchain-openai) (3.10.5)\r\n",
      "Requirement already satisfied: annotated-types>=0.4.0 in ./lib/python3.12/site-packages (from pydantic<3,>=1->langchain-core<0.3,>=0.2.2->langchain-openai) (0.7.0)\r\n",
      "Requirement already satisfied: pydantic-core==2.18.4 in ./lib/python3.12/site-packages (from pydantic<3,>=1->langchain-core<0.3,>=0.2.2->langchain-openai) (2.18.4)\r\n",
      "Requirement already satisfied: charset-normalizer<4,>=2 in ./lib/python3.12/site-packages (from requests>=2.26.0->tiktoken<1,>=0.7->langchain-openai) (3.3.2)\r\n",
      "Requirement already satisfied: urllib3<3,>=1.21.1 in ./lib/python3.12/site-packages (from requests>=2.26.0->tiktoken<1,>=0.7->langchain-openai) (2.2.1)\r\n",
      "Requirement already satisfied: langchain-chroma in ./lib/python3.12/site-packages (0.1.1)\r\n",
      "Requirement already satisfied: chromadb<0.6.0,>=0.4.0 in ./lib/python3.12/site-packages (from langchain-chroma) (0.5.2)\r\n",
      "Requirement already satisfied: fastapi<1,>=0.95.2 in ./lib/python3.12/site-packages (from langchain-chroma) (0.111.0)\r\n",
      "Requirement already satisfied: langchain-core<0.3,>=0.1.40 in ./lib/python3.12/site-packages (from langchain-chroma) (0.2.8)\r\n",
      "Requirement already satisfied: numpy<2,>=1 in ./lib/python3.12/site-packages (from langchain-chroma) (1.26.4)\r\n",
      "Requirement already satisfied: build>=1.0.3 in ./lib/python3.12/site-packages (from chromadb<0.6.0,>=0.4.0->langchain-chroma) (1.2.1)\r\n",
      "Requirement already satisfied: requests>=2.28 in ./lib/python3.12/site-packages (from chromadb<0.6.0,>=0.4.0->langchain-chroma) (2.32.3)\r\n",
      "Requirement already satisfied: pydantic>=1.9 in ./lib/python3.12/site-packages (from chromadb<0.6.0,>=0.4.0->langchain-chroma) (2.7.4)\r\n",
      "Requirement already satisfied: chroma-hnswlib==0.7.3 in ./lib/python3.12/site-packages (from chromadb<0.6.0,>=0.4.0->langchain-chroma) (0.7.3)\r\n",
      "Requirement already satisfied: uvicorn>=0.18.3 in ./lib/python3.12/site-packages (from uvicorn[standard]>=0.18.3->chromadb<0.6.0,>=0.4.0->langchain-chroma) (0.30.1)\r\n",
      "Requirement already satisfied: posthog>=2.4.0 in ./lib/python3.12/site-packages (from chromadb<0.6.0,>=0.4.0->langchain-chroma) (3.5.0)\r\n",
      "Requirement already satisfied: typing-extensions>=4.5.0 in ./lib/python3.12/site-packages (from chromadb<0.6.0,>=0.4.0->langchain-chroma) (4.12.2)\r\n",
      "Requirement already satisfied: onnxruntime>=1.14.1 in ./lib/python3.12/site-packages (from chromadb<0.6.0,>=0.4.0->langchain-chroma) (1.18.0)\r\n",
      "Requirement already satisfied: opentelemetry-api>=1.2.0 in ./lib/python3.12/site-packages (from chromadb<0.6.0,>=0.4.0->langchain-chroma) (1.25.0)\r\n",
      "Requirement already satisfied: opentelemetry-exporter-otlp-proto-grpc>=1.2.0 in ./lib/python3.12/site-packages (from chromadb<0.6.0,>=0.4.0->langchain-chroma) (1.25.0)\r\n",
      "Requirement already satisfied: opentelemetry-instrumentation-fastapi>=0.41b0 in ./lib/python3.12/site-packages (from chromadb<0.6.0,>=0.4.0->langchain-chroma) (0.46b0)\r\n",
      "Requirement already satisfied: opentelemetry-sdk>=1.2.0 in ./lib/python3.12/site-packages (from chromadb<0.6.0,>=0.4.0->langchain-chroma) (1.25.0)\r\n",
      "Requirement already satisfied: tokenizers>=0.13.2 in ./lib/python3.12/site-packages (from chromadb<0.6.0,>=0.4.0->langchain-chroma) (0.19.1)\r\n",
      "Requirement already satisfied: pypika>=0.48.9 in ./lib/python3.12/site-packages (from chromadb<0.6.0,>=0.4.0->langchain-chroma) (0.48.9)\r\n",
      "Requirement already satisfied: tqdm>=4.65.0 in ./lib/python3.12/site-packages (from chromadb<0.6.0,>=0.4.0->langchain-chroma) (4.66.4)\r\n",
      "Requirement already satisfied: overrides>=7.3.1 in ./lib/python3.12/site-packages (from chromadb<0.6.0,>=0.4.0->langchain-chroma) (7.7.0)\r\n",
      "Requirement already satisfied: importlib-resources in ./lib/python3.12/site-packages (from chromadb<0.6.0,>=0.4.0->langchain-chroma) (6.4.0)\r\n",
      "Requirement already satisfied: grpcio>=1.58.0 in ./lib/python3.12/site-packages (from chromadb<0.6.0,>=0.4.0->langchain-chroma) (1.64.1)\r\n",
      "Requirement already satisfied: bcrypt>=4.0.1 in ./lib/python3.12/site-packages (from chromadb<0.6.0,>=0.4.0->langchain-chroma) (4.1.3)\r\n",
      "Requirement already satisfied: typer>=0.9.0 in ./lib/python3.12/site-packages (from chromadb<0.6.0,>=0.4.0->langchain-chroma) (0.12.3)\r\n",
      "Requirement already satisfied: kubernetes>=28.1.0 in ./lib/python3.12/site-packages (from chromadb<0.6.0,>=0.4.0->langchain-chroma) (30.1.0)\r\n",
      "Requirement already satisfied: tenacity>=8.2.3 in ./lib/python3.12/site-packages (from chromadb<0.6.0,>=0.4.0->langchain-chroma) (8.3.0)\r\n",
      "Requirement already satisfied: PyYAML>=6.0.0 in ./lib/python3.12/site-packages (from chromadb<0.6.0,>=0.4.0->langchain-chroma) (6.0.1)\r\n",
      "Requirement already satisfied: mmh3>=4.0.1 in ./lib/python3.12/site-packages (from chromadb<0.6.0,>=0.4.0->langchain-chroma) (4.1.0)\r\n",
      "Requirement already satisfied: orjson>=3.9.12 in ./lib/python3.12/site-packages (from chromadb<0.6.0,>=0.4.0->langchain-chroma) (3.10.5)\r\n",
      "Requirement already satisfied: httpx>=0.27.0 in ./lib/python3.12/site-packages (from chromadb<0.6.0,>=0.4.0->langchain-chroma) (0.27.0)\r\n",
      "Requirement already satisfied: starlette<0.38.0,>=0.37.2 in ./lib/python3.12/site-packages (from fastapi<1,>=0.95.2->langchain-chroma) (0.37.2)\r\n",
      "Requirement already satisfied: fastapi-cli>=0.0.2 in ./lib/python3.12/site-packages (from fastapi<1,>=0.95.2->langchain-chroma) (0.0.4)\r\n",
      "Requirement already satisfied: jinja2>=2.11.2 in ./lib/python3.12/site-packages (from fastapi<1,>=0.95.2->langchain-chroma) (3.1.4)\r\n",
      "Requirement already satisfied: python-multipart>=0.0.7 in ./lib/python3.12/site-packages (from fastapi<1,>=0.95.2->langchain-chroma) (0.0.9)\r\n",
      "Requirement already satisfied: ujson!=4.0.2,!=4.1.0,!=4.2.0,!=4.3.0,!=5.0.0,!=5.1.0,>=4.0.1 in ./lib/python3.12/site-packages (from fastapi<1,>=0.95.2->langchain-chroma) (5.10.0)\r\n",
      "Requirement already satisfied: email_validator>=2.0.0 in ./lib/python3.12/site-packages (from fastapi<1,>=0.95.2->langchain-chroma) (2.1.2)\r\n",
      "Requirement already satisfied: jsonpatch<2.0,>=1.33 in ./lib/python3.12/site-packages (from langchain-core<0.3,>=0.1.40->langchain-chroma) (1.33)\r\n",
      "Requirement already satisfied: langsmith<0.2.0,>=0.1.75 in ./lib/python3.12/site-packages (from langchain-core<0.3,>=0.1.40->langchain-chroma) (0.1.79)\r\n",
      "Requirement already satisfied: packaging<25,>=23.2 in ./lib/python3.12/site-packages (from langchain-core<0.3,>=0.1.40->langchain-chroma) (24.1)\r\n",
      "Requirement already satisfied: pyproject_hooks in ./lib/python3.12/site-packages (from build>=1.0.3->chromadb<0.6.0,>=0.4.0->langchain-chroma) (1.1.0)\r\n",
      "Requirement already satisfied: dnspython>=2.0.0 in ./lib/python3.12/site-packages (from email_validator>=2.0.0->fastapi<1,>=0.95.2->langchain-chroma) (2.6.1)\r\n",
      "Requirement already satisfied: idna>=2.0.0 in ./lib/python3.12/site-packages (from email_validator>=2.0.0->fastapi<1,>=0.95.2->langchain-chroma) (3.7)\r\n",
      "Requirement already satisfied: anyio in ./lib/python3.12/site-packages (from httpx>=0.27.0->chromadb<0.6.0,>=0.4.0->langchain-chroma) (4.4.0)\r\n",
      "Requirement already satisfied: certifi in ./lib/python3.12/site-packages (from httpx>=0.27.0->chromadb<0.6.0,>=0.4.0->langchain-chroma) (2024.6.2)\r\n",
      "Requirement already satisfied: httpcore==1.* in ./lib/python3.12/site-packages (from httpx>=0.27.0->chromadb<0.6.0,>=0.4.0->langchain-chroma) (1.0.5)\r\n",
      "Requirement already satisfied: sniffio in ./lib/python3.12/site-packages (from httpx>=0.27.0->chromadb<0.6.0,>=0.4.0->langchain-chroma) (1.3.1)\r\n",
      "Requirement already satisfied: h11<0.15,>=0.13 in ./lib/python3.12/site-packages (from httpcore==1.*->httpx>=0.27.0->chromadb<0.6.0,>=0.4.0->langchain-chroma) (0.14.0)\r\n",
      "Requirement already satisfied: MarkupSafe>=2.0 in ./lib/python3.12/site-packages (from jinja2>=2.11.2->fastapi<1,>=0.95.2->langchain-chroma) (2.1.5)\r\n",
      "Requirement already satisfied: jsonpointer>=1.9 in ./lib/python3.12/site-packages (from jsonpatch<2.0,>=1.33->langchain-core<0.3,>=0.1.40->langchain-chroma) (3.0.0)\r\n",
      "Requirement already satisfied: six>=1.9.0 in ./lib/python3.12/site-packages (from kubernetes>=28.1.0->chromadb<0.6.0,>=0.4.0->langchain-chroma) (1.16.0)\r\n",
      "Requirement already satisfied: python-dateutil>=2.5.3 in ./lib/python3.12/site-packages (from kubernetes>=28.1.0->chromadb<0.6.0,>=0.4.0->langchain-chroma) (2.9.0.post0)\r\n",
      "Requirement already satisfied: google-auth>=1.0.1 in ./lib/python3.12/site-packages (from kubernetes>=28.1.0->chromadb<0.6.0,>=0.4.0->langchain-chroma) (2.30.0)\r\n",
      "Requirement already satisfied: websocket-client!=0.40.0,!=0.41.*,!=0.42.*,>=0.32.0 in ./lib/python3.12/site-packages (from kubernetes>=28.1.0->chromadb<0.6.0,>=0.4.0->langchain-chroma) (1.8.0)\r\n",
      "Requirement already satisfied: requests-oauthlib in ./lib/python3.12/site-packages (from kubernetes>=28.1.0->chromadb<0.6.0,>=0.4.0->langchain-chroma) (2.0.0)\r\n",
      "Requirement already satisfied: oauthlib>=3.2.2 in ./lib/python3.12/site-packages (from kubernetes>=28.1.0->chromadb<0.6.0,>=0.4.0->langchain-chroma) (3.2.2)\r\n",
      "Requirement already satisfied: urllib3>=1.24.2 in ./lib/python3.12/site-packages (from kubernetes>=28.1.0->chromadb<0.6.0,>=0.4.0->langchain-chroma) (2.2.1)\r\n",
      "Requirement already satisfied: coloredlogs in ./lib/python3.12/site-packages (from onnxruntime>=1.14.1->chromadb<0.6.0,>=0.4.0->langchain-chroma) (15.0.1)\r\n",
      "Requirement already satisfied: flatbuffers in ./lib/python3.12/site-packages (from onnxruntime>=1.14.1->chromadb<0.6.0,>=0.4.0->langchain-chroma) (24.3.25)\r\n",
      "Requirement already satisfied: protobuf in ./lib/python3.12/site-packages (from onnxruntime>=1.14.1->chromadb<0.6.0,>=0.4.0->langchain-chroma) (4.25.3)\r\n",
      "Requirement already satisfied: sympy in ./lib/python3.12/site-packages (from onnxruntime>=1.14.1->chromadb<0.6.0,>=0.4.0->langchain-chroma) (1.12.1)\r\n",
      "Requirement already satisfied: deprecated>=1.2.6 in ./lib/python3.12/site-packages (from opentelemetry-api>=1.2.0->chromadb<0.6.0,>=0.4.0->langchain-chroma) (1.2.14)\r\n",
      "Requirement already satisfied: importlib-metadata<=7.1,>=6.0 in ./lib/python3.12/site-packages (from opentelemetry-api>=1.2.0->chromadb<0.6.0,>=0.4.0->langchain-chroma) (7.1.0)\r\n",
      "Requirement already satisfied: googleapis-common-protos~=1.52 in ./lib/python3.12/site-packages (from opentelemetry-exporter-otlp-proto-grpc>=1.2.0->chromadb<0.6.0,>=0.4.0->langchain-chroma) (1.63.1)\r\n",
      "Requirement already satisfied: opentelemetry-exporter-otlp-proto-common==1.25.0 in ./lib/python3.12/site-packages (from opentelemetry-exporter-otlp-proto-grpc>=1.2.0->chromadb<0.6.0,>=0.4.0->langchain-chroma) (1.25.0)\r\n",
      "Requirement already satisfied: opentelemetry-proto==1.25.0 in ./lib/python3.12/site-packages (from opentelemetry-exporter-otlp-proto-grpc>=1.2.0->chromadb<0.6.0,>=0.4.0->langchain-chroma) (1.25.0)\r\n",
      "Requirement already satisfied: opentelemetry-instrumentation-asgi==0.46b0 in ./lib/python3.12/site-packages (from opentelemetry-instrumentation-fastapi>=0.41b0->chromadb<0.6.0,>=0.4.0->langchain-chroma) (0.46b0)\r\n",
      "Requirement already satisfied: opentelemetry-instrumentation==0.46b0 in ./lib/python3.12/site-packages (from opentelemetry-instrumentation-fastapi>=0.41b0->chromadb<0.6.0,>=0.4.0->langchain-chroma) (0.46b0)\r\n",
      "Requirement already satisfied: opentelemetry-semantic-conventions==0.46b0 in ./lib/python3.12/site-packages (from opentelemetry-instrumentation-fastapi>=0.41b0->chromadb<0.6.0,>=0.4.0->langchain-chroma) (0.46b0)\r\n",
      "Requirement already satisfied: opentelemetry-util-http==0.46b0 in ./lib/python3.12/site-packages (from opentelemetry-instrumentation-fastapi>=0.41b0->chromadb<0.6.0,>=0.4.0->langchain-chroma) (0.46b0)\r\n",
      "Requirement already satisfied: setuptools>=16.0 in ./lib/python3.12/site-packages (from opentelemetry-instrumentation==0.46b0->opentelemetry-instrumentation-fastapi>=0.41b0->chromadb<0.6.0,>=0.4.0->langchain-chroma) (70.0.0)\r\n",
      "Requirement already satisfied: wrapt<2.0.0,>=1.0.0 in ./lib/python3.12/site-packages (from opentelemetry-instrumentation==0.46b0->opentelemetry-instrumentation-fastapi>=0.41b0->chromadb<0.6.0,>=0.4.0->langchain-chroma) (1.16.0)\r\n",
      "Requirement already satisfied: asgiref~=3.0 in ./lib/python3.12/site-packages (from opentelemetry-instrumentation-asgi==0.46b0->opentelemetry-instrumentation-fastapi>=0.41b0->chromadb<0.6.0,>=0.4.0->langchain-chroma) (3.8.1)\r\n",
      "Requirement already satisfied: monotonic>=1.5 in ./lib/python3.12/site-packages (from posthog>=2.4.0->chromadb<0.6.0,>=0.4.0->langchain-chroma) (1.6)\r\n",
      "Requirement already satisfied: backoff>=1.10.0 in ./lib/python3.12/site-packages (from posthog>=2.4.0->chromadb<0.6.0,>=0.4.0->langchain-chroma) (2.2.1)\r\n",
      "Requirement already satisfied: annotated-types>=0.4.0 in ./lib/python3.12/site-packages (from pydantic>=1.9->chromadb<0.6.0,>=0.4.0->langchain-chroma) (0.7.0)\r\n",
      "Requirement already satisfied: pydantic-core==2.18.4 in ./lib/python3.12/site-packages (from pydantic>=1.9->chromadb<0.6.0,>=0.4.0->langchain-chroma) (2.18.4)\r\n",
      "Requirement already satisfied: charset-normalizer<4,>=2 in ./lib/python3.12/site-packages (from requests>=2.28->chromadb<0.6.0,>=0.4.0->langchain-chroma) (3.3.2)\r\n",
      "Requirement already satisfied: huggingface-hub<1.0,>=0.16.4 in ./lib/python3.12/site-packages (from tokenizers>=0.13.2->chromadb<0.6.0,>=0.4.0->langchain-chroma) (0.23.4)\r\n",
      "Requirement already satisfied: click>=8.0.0 in ./lib/python3.12/site-packages (from typer>=0.9.0->chromadb<0.6.0,>=0.4.0->langchain-chroma) (8.1.7)\r\n",
      "Requirement already satisfied: shellingham>=1.3.0 in ./lib/python3.12/site-packages (from typer>=0.9.0->chromadb<0.6.0,>=0.4.0->langchain-chroma) (1.5.4)\r\n",
      "Requirement already satisfied: rich>=10.11.0 in ./lib/python3.12/site-packages (from typer>=0.9.0->chromadb<0.6.0,>=0.4.0->langchain-chroma) (13.7.1)\r\n",
      "Requirement already satisfied: httptools>=0.5.0 in ./lib/python3.12/site-packages (from uvicorn[standard]>=0.18.3->chromadb<0.6.0,>=0.4.0->langchain-chroma) (0.6.1)\r\n",
      "Requirement already satisfied: python-dotenv>=0.13 in ./lib/python3.12/site-packages (from uvicorn[standard]>=0.18.3->chromadb<0.6.0,>=0.4.0->langchain-chroma) (1.0.1)\r\n",
      "Requirement already satisfied: uvloop!=0.15.0,!=0.15.1,>=0.14.0 in ./lib/python3.12/site-packages (from uvicorn[standard]>=0.18.3->chromadb<0.6.0,>=0.4.0->langchain-chroma) (0.19.0)\r\n",
      "Requirement already satisfied: watchfiles>=0.13 in ./lib/python3.12/site-packages (from uvicorn[standard]>=0.18.3->chromadb<0.6.0,>=0.4.0->langchain-chroma) (0.22.0)\r\n",
      "Requirement already satisfied: websockets>=10.4 in ./lib/python3.12/site-packages (from uvicorn[standard]>=0.18.3->chromadb<0.6.0,>=0.4.0->langchain-chroma) (12.0)\r\n",
      "Requirement already satisfied: cachetools<6.0,>=2.0.0 in ./lib/python3.12/site-packages (from google-auth>=1.0.1->kubernetes>=28.1.0->chromadb<0.6.0,>=0.4.0->langchain-chroma) (5.3.3)\r\n",
      "Requirement already satisfied: pyasn1-modules>=0.2.1 in ./lib/python3.12/site-packages (from google-auth>=1.0.1->kubernetes>=28.1.0->chromadb<0.6.0,>=0.4.0->langchain-chroma) (0.4.0)\r\n",
      "Requirement already satisfied: rsa<5,>=3.1.4 in ./lib/python3.12/site-packages (from google-auth>=1.0.1->kubernetes>=28.1.0->chromadb<0.6.0,>=0.4.0->langchain-chroma) (4.9)\r\n",
      "Requirement already satisfied: filelock in ./lib/python3.12/site-packages (from huggingface-hub<1.0,>=0.16.4->tokenizers>=0.13.2->chromadb<0.6.0,>=0.4.0->langchain-chroma) (3.15.1)\r\n",
      "Requirement already satisfied: fsspec>=2023.5.0 in ./lib/python3.12/site-packages (from huggingface-hub<1.0,>=0.16.4->tokenizers>=0.13.2->chromadb<0.6.0,>=0.4.0->langchain-chroma) (2024.5.0)\r\n",
      "Requirement already satisfied: zipp>=0.5 in ./lib/python3.12/site-packages (from importlib-metadata<=7.1,>=6.0->opentelemetry-api>=1.2.0->chromadb<0.6.0,>=0.4.0->langchain-chroma) (3.19.2)\r\n",
      "Requirement already satisfied: markdown-it-py>=2.2.0 in ./lib/python3.12/site-packages (from rich>=10.11.0->typer>=0.9.0->chromadb<0.6.0,>=0.4.0->langchain-chroma) (3.0.0)\r\n",
      "Requirement already satisfied: pygments<3.0.0,>=2.13.0 in ./lib/python3.12/site-packages (from rich>=10.11.0->typer>=0.9.0->chromadb<0.6.0,>=0.4.0->langchain-chroma) (2.18.0)\r\n",
      "Requirement already satisfied: humanfriendly>=9.1 in ./lib/python3.12/site-packages (from coloredlogs->onnxruntime>=1.14.1->chromadb<0.6.0,>=0.4.0->langchain-chroma) (10.0)\r\n",
      "Requirement already satisfied: mpmath<1.4.0,>=1.1.0 in ./lib/python3.12/site-packages (from sympy->onnxruntime>=1.14.1->chromadb<0.6.0,>=0.4.0->langchain-chroma) (1.3.0)\r\n",
      "Requirement already satisfied: mdurl~=0.1 in ./lib/python3.12/site-packages (from markdown-it-py>=2.2.0->rich>=10.11.0->typer>=0.9.0->chromadb<0.6.0,>=0.4.0->langchain-chroma) (0.1.2)\r\n",
      "Requirement already satisfied: pyasn1<0.7.0,>=0.4.6 in ./lib/python3.12/site-packages (from pyasn1-modules>=0.2.1->google-auth>=1.0.1->kubernetes>=28.1.0->chromadb<0.6.0,>=0.4.0->langchain-chroma) (0.6.0)\r\n",
      "Collecting langchainhub\r\n",
      "  Downloading langchainhub-0.1.20-py3-none-any.whl.metadata (659 bytes)\r\n",
      "Requirement already satisfied: packaging<25,>=23.2 in ./lib/python3.12/site-packages (from langchainhub) (24.1)\r\n",
      "Requirement already satisfied: requests<3,>=2 in ./lib/python3.12/site-packages (from langchainhub) (2.32.3)\r\n",
      "Collecting types-requests<3.0.0.0,>=2.31.0.2 (from langchainhub)\r\n",
      "  Downloading types_requests-2.32.0.20240602-py3-none-any.whl.metadata (1.8 kB)\r\n",
      "Requirement already satisfied: charset-normalizer<4,>=2 in ./lib/python3.12/site-packages (from requests<3,>=2->langchainhub) (3.3.2)\r\n",
      "Requirement already satisfied: idna<4,>=2.5 in ./lib/python3.12/site-packages (from requests<3,>=2->langchainhub) (3.7)\r\n",
      "Requirement already satisfied: urllib3<3,>=1.21.1 in ./lib/python3.12/site-packages (from requests<3,>=2->langchainhub) (2.2.1)\r\n",
      "Requirement already satisfied: certifi>=2017.4.17 in ./lib/python3.12/site-packages (from requests<3,>=2->langchainhub) (2024.6.2)\r\n",
      "Downloading langchainhub-0.1.20-py3-none-any.whl (5.0 kB)\r\n",
      "Downloading types_requests-2.32.0.20240602-py3-none-any.whl (15 kB)\r\n",
      "Installing collected packages: types-requests, langchainhub\r\n",
      "Successfully installed langchainhub-0.1.20 types-requests-2.32.0.20240602\r\n"
     ]
    }
   ],
   "source": [
    "!pip install langchain-openai\n",
    "!pip install langchain-chroma\n",
    "!pip install langchainhub"
   ],
   "metadata": {
    "collapsed": false,
    "ExecuteTime": {
     "end_time": "2024-06-18T12:32:28.720934Z",
     "start_time": "2024-06-18T12:32:21.792365Z"
    }
   },
   "id": "7869477b5c7a0196"
  },
  {
   "cell_type": "code",
   "execution_count": 103,
   "outputs": [],
   "source": [
    "from langchain_openai import OpenAIEmbeddings\n",
    "from langchain_chroma import Chroma\n",
    "from langchain_openai import ChatOpenAI\n",
    "\n",
    "embeddings_model = OpenAIEmbeddings()\n",
    "vectorstore = Chroma.from_documents(documents=split_docs, embedding=embeddings_model)\n",
    "retriever = vectorstore.as_retriever()\n",
    "\n",
    "llm = ChatOpenAI(model=\"gpt-3.5-turbo-0125\")\n",
    "\n",
    "retriever = vectorstore.as_retriever()\n",
    "query = \"agent memory\"\n",
    "retrieve_contents = retriever.get_relevant_documents(\"agent memory\")\n"
   ],
   "metadata": {
    "collapsed": false,
    "ExecuteTime": {
     "end_time": "2024-06-19T00:52:47.353968Z",
     "start_time": "2024-06-19T00:52:44.231094Z"
    }
   },
   "id": "f260ea80c4625ab5"
  },
  {
   "cell_type": "code",
   "execution_count": 105,
   "outputs": [
    {
     "data": {
      "text/plain": "{'relevance': 'no',\n 'agent_memory': {'Memory_stream': \"a long-term memory module that records agents' experiences in natural language\",\n  'Retrieval_model': \"surfaces context to inform agent's behavior based on relevance, recency, and importance\",\n  'Reflection_mechanism': \"synthesizes memories into higher level inferences over time and guides agent's future behavior\"}}"
     },
     "execution_count": 105,
     "metadata": {},
     "output_type": "execute_result"
    }
   ],
   "source": [
    "from langchain_core.output_parsers import JsonOutputParser\n",
    "from langchain_core.prompts import PromptTemplate\n",
    "\n",
    "\n",
    "\n",
    "parser = JsonOutputParser()\n",
    "\n",
    "prompt = PromptTemplate(\n",
    "    template=\"is it relevance contents with user query? If yes, answer `yes` in the relevance field. If not, answer no.\\ncontents: {retrieve_contents} \\n{format_instructions}\\n{query}\\n\",\n",
    "    input_variables=[\"retrieve_contents\", \"query\"],    partial_variables={\"format_instructions\": parser.get_format_instructions()},\n",
    ")\n",
    "\n",
    "chain = prompt | llm | parser\n",
    "\n",
    "chain.invoke({\"retrieve_contents\": retrieve_contents, \"query\": query})"
   ],
   "metadata": {
    "collapsed": false,
    "ExecuteTime": {
     "end_time": "2024-06-19T00:54:43.830652Z",
     "start_time": "2024-06-19T00:54:42.203648Z"
    }
   },
   "id": "a07d4c99dd09e3d6"
  },
  {
   "cell_type": "code",
   "execution_count": null,
   "outputs": [],
   "source": [],
   "metadata": {
    "collapsed": false
   },
   "id": "38c552f1e44ec9f3"
  }
 ],
 "metadata": {
  "kernelspec": {
   "display_name": "Python 3",
   "language": "python",
   "name": "python3"
  },
  "language_info": {
   "codemirror_mode": {
    "name": "ipython",
    "version": 2
   },
   "file_extension": ".py",
   "mimetype": "text/x-python",
   "name": "python",
   "nbconvert_exporter": "python",
   "pygments_lexer": "ipython2",
   "version": "2.7.6"
  }
 },
 "nbformat": 4,
 "nbformat_minor": 5
}
